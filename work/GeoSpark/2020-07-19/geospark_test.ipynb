{
 "cells": [
  {
   "cell_type": "markdown",
   "metadata": {},
   "source": [
    "GeoSpark Test\n",
    "=================\n",
    "\n",
    "Ref:\n",
    "- https://datasystemslab.github.io/GeoSpark/tutorial/geospark-sql-python/\n",
    "- https://github.com/DataSystemsLab/GeoSpark/blob/master/python/GeoSparkSQL.ipynb\n",
    "- https://github.com/DataSystemsLab/GeoSpark/blob/master/python/GeoSparkCore.ipynb"
   ]
  },
  {
   "cell_type": "code",
   "execution_count": 1,
   "metadata": {},
   "outputs": [
    {
     "name": "stdout",
     "output_type": "stream",
     "text": [
      "WARNING: There is NO config: spark_session.py for SparkDriver.Let's try to use spark_session_local.py instead.\n"
     ]
    },
    {
     "data": {
      "text/html": [
       "\n",
       "            <div>\n",
       "                <p><b>SparkSession - hive</b></p>\n",
       "                \n",
       "        <div>\n",
       "            <p><b>SparkContext</b></p>\n",
       "\n",
       "            <p><a href=\"http://7ae7acf7bffc:4040\">Spark UI</a></p>\n",
       "\n",
       "            <dl>\n",
       "              <dt>Version</dt>\n",
       "                <dd><code>v2.4.6</code></dd>\n",
       "              <dt>Master</dt>\n",
       "                <dd><code>local[*]</code></dd>\n",
       "              <dt>AppName</dt>\n",
       "                <dd><code>local-test</code></dd>\n",
       "            </dl>\n",
       "        </div>\n",
       "        \n",
       "            </div>\n",
       "        "
      ],
      "text/plain": [
       "<pyspark.sql.session.SparkSession at 0x7fdf670cb150>"
      ]
     },
     "execution_count": 1,
     "metadata": {},
     "output_type": "execute_result"
    }
   ],
   "source": [
    "from pyspark_utils import get_or_create_geospark_session\n",
    "spark = get_or_create_geospark_session()\n",
    "spark"
   ]
  },
  {
   "cell_type": "code",
   "execution_count": 2,
   "metadata": {},
   "outputs": [],
   "source": [
    "import geopandas as gpd\n",
    "# import pandas as pd"
   ]
  },
  {
   "cell_type": "markdown",
   "metadata": {},
   "source": [
    "prepare `japan_ver82` from [esri-japan](https://www.esrij.com/products/japan-shp/)"
   ]
  },
  {
   "cell_type": "code",
   "execution_count": 3,
   "metadata": {},
   "outputs": [
    {
     "data": {
      "text/html": [
       "<div>\n",
       "<style scoped>\n",
       "    .dataframe tbody tr th:only-of-type {\n",
       "        vertical-align: middle;\n",
       "    }\n",
       "\n",
       "    .dataframe tbody tr th {\n",
       "        vertical-align: top;\n",
       "    }\n",
       "\n",
       "    .dataframe thead th {\n",
       "        text-align: right;\n",
       "    }\n",
       "</style>\n",
       "<table border=\"1\" class=\"dataframe\">\n",
       "  <thead>\n",
       "    <tr style=\"text-align: right;\">\n",
       "      <th></th>\n",
       "      <th>JCODE</th>\n",
       "      <th>KEN</th>\n",
       "      <th>SICHO</th>\n",
       "      <th>GUN</th>\n",
       "      <th>SEIREI</th>\n",
       "      <th>SIKUCHOSON</th>\n",
       "      <th>CITY_ENG</th>\n",
       "      <th>P_NUM</th>\n",
       "      <th>H_NUM</th>\n",
       "      <th>geometry</th>\n",
       "    </tr>\n",
       "  </thead>\n",
       "  <tbody>\n",
       "    <tr>\n",
       "      <th>0</th>\n",
       "      <td>01101</td>\n",
       "      <td>北海道</td>\n",
       "      <td>石狩振興局</td>\n",
       "      <td>None</td>\n",
       "      <td>札幌市</td>\n",
       "      <td>中央区</td>\n",
       "      <td>Sapporo-shi, Chuo-ku</td>\n",
       "      <td>235449.0</td>\n",
       "      <td>141734.0</td>\n",
       "      <td>POLYGON ((141.34233 43.06682, 141.35520 43.068...</td>\n",
       "    </tr>\n",
       "    <tr>\n",
       "      <th>1</th>\n",
       "      <td>01102</td>\n",
       "      <td>北海道</td>\n",
       "      <td>石狩振興局</td>\n",
       "      <td>None</td>\n",
       "      <td>札幌市</td>\n",
       "      <td>北区</td>\n",
       "      <td>Sapporo-shi, Kita-ku</td>\n",
       "      <td>286112.0</td>\n",
       "      <td>151891.0</td>\n",
       "      <td>POLYGON ((141.40839 43.18395, 141.40427 43.182...</td>\n",
       "    </tr>\n",
       "    <tr>\n",
       "      <th>2</th>\n",
       "      <td>01103</td>\n",
       "      <td>北海道</td>\n",
       "      <td>石狩振興局</td>\n",
       "      <td>None</td>\n",
       "      <td>札幌市</td>\n",
       "      <td>東区</td>\n",
       "      <td>Sapporo-shi, Higashi-ku</td>\n",
       "      <td>261777.0</td>\n",
       "      <td>142078.0</td>\n",
       "      <td>POLYGON ((141.44698 43.15513, 141.44860 43.153...</td>\n",
       "    </tr>\n",
       "    <tr>\n",
       "      <th>3</th>\n",
       "      <td>01104</td>\n",
       "      <td>北海道</td>\n",
       "      <td>石狩振興局</td>\n",
       "      <td>None</td>\n",
       "      <td>札幌市</td>\n",
       "      <td>白石区</td>\n",
       "      <td>Sapporo-shi, Shiroishi-ku</td>\n",
       "      <td>212671.0</td>\n",
       "      <td>122062.0</td>\n",
       "      <td>POLYGON ((141.46569 43.10000, 141.46812 43.097...</td>\n",
       "    </tr>\n",
       "    <tr>\n",
       "      <th>4</th>\n",
       "      <td>01105</td>\n",
       "      <td>北海道</td>\n",
       "      <td>石狩振興局</td>\n",
       "      <td>None</td>\n",
       "      <td>札幌市</td>\n",
       "      <td>豊平区</td>\n",
       "      <td>Sapporo-shi, Toyohira-ku</td>\n",
       "      <td>222504.0</td>\n",
       "      <td>126579.0</td>\n",
       "      <td>POLYGON ((141.38479 43.04660, 141.38558 43.047...</td>\n",
       "    </tr>\n",
       "  </tbody>\n",
       "</table>\n",
       "</div>"
      ],
      "text/plain": [
       "   JCODE  KEN  SICHO   GUN SEIREI SIKUCHOSON                   CITY_ENG  \\\n",
       "0  01101  北海道  石狩振興局  None    札幌市        中央区       Sapporo-shi, Chuo-ku   \n",
       "1  01102  北海道  石狩振興局  None    札幌市         北区       Sapporo-shi, Kita-ku   \n",
       "2  01103  北海道  石狩振興局  None    札幌市         東区    Sapporo-shi, Higashi-ku   \n",
       "3  01104  北海道  石狩振興局  None    札幌市        白石区  Sapporo-shi, Shiroishi-ku   \n",
       "4  01105  北海道  石狩振興局  None    札幌市        豊平区   Sapporo-shi, Toyohira-ku   \n",
       "\n",
       "      P_NUM     H_NUM                                           geometry  \n",
       "0  235449.0  141734.0  POLYGON ((141.34233 43.06682, 141.35520 43.068...  \n",
       "1  286112.0  151891.0  POLYGON ((141.40839 43.18395, 141.40427 43.182...  \n",
       "2  261777.0  142078.0  POLYGON ((141.44698 43.15513, 141.44860 43.153...  \n",
       "3  212671.0  122062.0  POLYGON ((141.46569 43.10000, 141.46812 43.097...  \n",
       "4  222504.0  126579.0  POLYGON ((141.38479 43.04660, 141.38558 43.047...  "
      ]
     },
     "execution_count": 3,
     "metadata": {},
     "output_type": "execute_result"
    }
   ],
   "source": [
    "gpdf = gpd.read_file('japan_ver82/japan_ver82.shp')\n",
    "gpdf[:5]"
   ]
  },
  {
   "cell_type": "code",
   "execution_count": 4,
   "metadata": {},
   "outputs": [
    {
     "name": "stdout",
     "output_type": "stream",
     "text": [
      "+-----+------+--------------------+----+------+----------+--------------------+--------+--------+--------------------+\n",
      "|JCODE|   KEN|               SICHO| GUN|SEIREI|SIKUCHOSON|            CITY_ENG|   P_NUM|   H_NUM|            geometry|\n",
      "+-----+------+--------------------+----+------+----------+--------------------+--------+--------+--------------------+\n",
      "|01101|北海道|          石狩振興局|null|札幌市|    中央区|Sapporo-shi, Chuo-ku|235449.0|141734.0|POLYGON ((141.342...|\n",
      "|01102|北海道|          石狩振興局|null|札幌市|      北区|Sapporo-shi, Kita-ku|286112.0|151891.0|POLYGON ((141.408...|\n",
      "|01103|北海道|          石狩振興局|null|札幌市|      東区|Sapporo-shi, Higa...|261777.0|142078.0|POLYGON ((141.446...|\n",
      "|01104|北海道|          石狩振興局|null|札幌市|    白石区|Sapporo-shi, Shir...|212671.0|122062.0|POLYGON ((141.465...|\n",
      "|01105|北海道|          石狩振興局|null|札幌市|    豊平区|Sapporo-shi, Toyo...|222504.0|126579.0|POLYGON ((141.384...|\n",
      "|01106|北海道|          石狩振興局|null|札幌市|      南区|Sapporo-shi, Mina...|137488.0| 72502.0|POLYGON ((141.102...|\n",
      "|01107|北海道|          石狩振興局|null|札幌市|      西区|Sapporo-shi, Nish...|215231.0|114066.0|POLYGON ((141.328...|\n",
      "|01108|北海道|          石狩振興局|null|札幌市|    厚別区|Sapporo-shi, Atsu...|127648.0| 65096.0|POLYGON ((141.474...|\n",
      "|01109|北海道|          石狩振興局|null|札幌市|    手稲区|Sapporo-shi, Tein...|142130.0| 69249.0|POLYGON ((141.226...|\n",
      "|01110|北海道|          石狩振興局|null|札幌市|    清田区|Sapporo-shi, Kiyo...|114447.0| 53174.0|POLYGON ((141.454...|\n",
      "|01202|北海道|      渡島総合振興局|null|  null|    函館市|        Hakodate-shi|258948.0|142571.0|MULTIPOLYGON (((1...|\n",
      "|01203|北海道|      後志総合振興局|null|  null|    小樽市|           Otaru-shi|116529.0| 63709.0|MULTIPOLYGON (((1...|\n",
      "|01204|北海道|      上川総合振興局|null|  null|    旭川市|       Asahikawa-shi|337392.0|177764.0|POLYGON ((142.262...|\n",
      "|01205|北海道|      胆振総合振興局|null|  null|    室蘭市|         Muroran-shi| 84405.0| 45903.0|MULTIPOLYGON (((1...|\n",
      "|01206|北海道|      釧路総合振興局|null|  null|    釧路市|         Kushiro-shi|170364.0| 94654.0|MULTIPOLYGON (((1...|\n",
      "|01207|北海道|      十勝総合振興局|null|  null|    帯広市|         Obihiro-shi|166889.0| 87671.0|POLYGON ((143.137...|\n",
      "|01208|北海道|オホーツク総合振興局|null|  null|    北見市|          Kitami-shi|117806.0| 61638.0|POLYGON ((143.783...|\n",
      "|01209|北海道|      空知総合振興局|null|  null|    夕張市|          Yubari-shi|  8087.0|  4755.0|POLYGON ((142.280...|\n",
      "|01210|北海道|      空知総合振興局|null|  null|  岩見沢市|       Iwamizawa-shi| 81778.0| 41767.0|POLYGON ((141.694...|\n",
      "|01211|北海道|オホーツク総合振興局|null|  null|    網走市|        Abashiri-shi| 35704.0| 18243.0|MULTIPOLYGON (((1...|\n",
      "+-----+------+--------------------+----+------+----------+--------------------+--------+--------+--------------------+\n",
      "only showing top 20 rows\n",
      "\n",
      "CPU times: user 43.3 s, sys: 153 ms, total: 43.4 s\n",
      "Wall time: 46.1 s\n"
     ]
    },
    {
     "data": {
      "text/plain": [
       "[('JCODE', 'string'),\n",
       " ('KEN', 'string'),\n",
       " ('SICHO', 'string'),\n",
       " ('GUN', 'string'),\n",
       " ('SEIREI', 'string'),\n",
       " ('SIKUCHOSON', 'string'),\n",
       " ('CITY_ENG', 'string'),\n",
       " ('P_NUM', 'double'),\n",
       " ('H_NUM', 'double'),\n",
       " ('geometry', 'udt')]"
      ]
     },
     "execution_count": 4,
     "metadata": {},
     "output_type": "execute_result"
    }
   ],
   "source": [
    "%%time\n",
    "gdf = spark.createDataFrame(gpdf)\n",
    "gdf.show()\n",
    "gdf.dtypes"
   ]
  },
  {
   "cell_type": "code",
   "execution_count": 5,
   "metadata": {},
   "outputs": [
    {
     "name": "stdout",
     "output_type": "stream",
     "text": [
      "CPU times: user 5.77 ms, sys: 65 µs, total: 5.84 ms\n",
      "Wall time: 15 s\n"
     ]
    }
   ],
   "source": [
    "%%time\n",
    "spark.sql(\"create database if not exists tmp\")\n",
    "spark.sql(\"drop table if exists tmp.japan_ver82\")\n",
    "gdf.write.saveAsTable(\"tmp.japan_ver82\")"
   ]
  },
  {
   "cell_type": "code",
   "execution_count": 6,
   "metadata": {},
   "outputs": [
    {
     "name": "stdout",
     "output_type": "stream",
     "text": [
      "+-----+------+-----+------+------+----------+--------------+-------+-------+--------------------+\n",
      "|JCODE|   KEN|SICHO|   GUN|SEIREI|SIKUCHOSON|      CITY_ENG|  P_NUM|  H_NUM|            geometry|\n",
      "+-----+------+-----+------+------+----------+--------------+-------+-------+--------------------+\n",
      "|32207|島根県| null|  null|  null|    江津市|     Gotsu-shi|23664.0|11513.0|MULTIPOLYGON (((1...|\n",
      "|32209|島根県| null|  null|  null|    雲南市|     Unnan-shi|38479.0|13786.0|MULTIPOLYGON (((1...|\n",
      "|32343|島根県| null|仁多郡|  null|  奥出雲町|  Okuizumo-cho|12694.0| 4782.0|POLYGON ((133.078...|\n",
      "|32386|島根県| null|飯石郡|  null|    飯南町|     Iinan-cho| 4898.0| 2072.0|POLYGON ((132.678...|\n",
      "|32441|島根県| null|邑智郡|  null|    川本町|Kawamoto-machi| 3317.0| 1672.0|POLYGON ((132.487...|\n",
      "+-----+------+-----+------+------+----------+--------------+-------+-------+--------------------+\n",
      "only showing top 5 rows\n",
      "\n"
     ]
    },
    {
     "data": {
      "text/html": [
       "<div>\n",
       "<style scoped>\n",
       "    .dataframe tbody tr th:only-of-type {\n",
       "        vertical-align: middle;\n",
       "    }\n",
       "\n",
       "    .dataframe tbody tr th {\n",
       "        vertical-align: top;\n",
       "    }\n",
       "\n",
       "    .dataframe thead th {\n",
       "        text-align: right;\n",
       "    }\n",
       "</style>\n",
       "<table border=\"1\" class=\"dataframe\">\n",
       "  <thead>\n",
       "    <tr style=\"text-align: right;\">\n",
       "      <th></th>\n",
       "      <th>JCODE</th>\n",
       "      <th>KEN</th>\n",
       "      <th>SICHO</th>\n",
       "      <th>GUN</th>\n",
       "      <th>SEIREI</th>\n",
       "      <th>SIKUCHOSON</th>\n",
       "      <th>CITY_ENG</th>\n",
       "      <th>P_NUM</th>\n",
       "      <th>H_NUM</th>\n",
       "      <th>geometry</th>\n",
       "    </tr>\n",
       "  </thead>\n",
       "  <tbody>\n",
       "    <tr>\n",
       "      <th>0</th>\n",
       "      <td>32207</td>\n",
       "      <td>島根県</td>\n",
       "      <td>None</td>\n",
       "      <td>None</td>\n",
       "      <td>None</td>\n",
       "      <td>江津市</td>\n",
       "      <td>Gotsu-shi</td>\n",
       "      <td>23664.0</td>\n",
       "      <td>11513.0</td>\n",
       "      <td>(POLYGON ((132.283836498 35.05078841400007, 13...</td>\n",
       "    </tr>\n",
       "    <tr>\n",
       "      <th>1</th>\n",
       "      <td>32209</td>\n",
       "      <td>島根県</td>\n",
       "      <td>None</td>\n",
       "      <td>None</td>\n",
       "      <td>None</td>\n",
       "      <td>雲南市</td>\n",
       "      <td>Unnan-shi</td>\n",
       "      <td>38479.0</td>\n",
       "      <td>13786.0</td>\n",
       "      <td>(POLYGON ((132.9725294420001 35.22926166700006...</td>\n",
       "    </tr>\n",
       "    <tr>\n",
       "      <th>2</th>\n",
       "      <td>32343</td>\n",
       "      <td>島根県</td>\n",
       "      <td>None</td>\n",
       "      <td>仁多郡</td>\n",
       "      <td>None</td>\n",
       "      <td>奥出雲町</td>\n",
       "      <td>Okuizumo-cho</td>\n",
       "      <td>12694.0</td>\n",
       "      <td>4782.0</td>\n",
       "      <td>POLYGON ((133.0786477820001 35.25038555900005,...</td>\n",
       "    </tr>\n",
       "    <tr>\n",
       "      <th>3</th>\n",
       "      <td>32386</td>\n",
       "      <td>島根県</td>\n",
       "      <td>None</td>\n",
       "      <td>飯石郡</td>\n",
       "      <td>None</td>\n",
       "      <td>飯南町</td>\n",
       "      <td>Iinan-cho</td>\n",
       "      <td>4898.0</td>\n",
       "      <td>2072.0</td>\n",
       "      <td>POLYGON ((132.678336939 35.17283917100008, 132...</td>\n",
       "    </tr>\n",
       "    <tr>\n",
       "      <th>4</th>\n",
       "      <td>32441</td>\n",
       "      <td>島根県</td>\n",
       "      <td>None</td>\n",
       "      <td>邑智郡</td>\n",
       "      <td>None</td>\n",
       "      <td>川本町</td>\n",
       "      <td>Kawamoto-machi</td>\n",
       "      <td>3317.0</td>\n",
       "      <td>1672.0</td>\n",
       "      <td>POLYGON ((132.4872108300001 35.05614277500007,...</td>\n",
       "    </tr>\n",
       "  </tbody>\n",
       "</table>\n",
       "</div>"
      ],
      "text/plain": [
       "   JCODE  KEN SICHO   GUN SEIREI SIKUCHOSON        CITY_ENG    P_NUM    H_NUM  \\\n",
       "0  32207  島根県  None  None   None        江津市       Gotsu-shi  23664.0  11513.0   \n",
       "1  32209  島根県  None  None   None        雲南市       Unnan-shi  38479.0  13786.0   \n",
       "2  32343  島根県  None   仁多郡   None       奥出雲町    Okuizumo-cho  12694.0   4782.0   \n",
       "3  32386  島根県  None   飯石郡   None        飯南町       Iinan-cho   4898.0   2072.0   \n",
       "4  32441  島根県  None   邑智郡   None        川本町  Kawamoto-machi   3317.0   1672.0   \n",
       "\n",
       "                                            geometry  \n",
       "0  (POLYGON ((132.283836498 35.05078841400007, 13...  \n",
       "1  (POLYGON ((132.9725294420001 35.22926166700006...  \n",
       "2  POLYGON ((133.0786477820001 35.25038555900005,...  \n",
       "3  POLYGON ((132.678336939 35.17283917100008, 132...  \n",
       "4  POLYGON ((132.4872108300001 35.05614277500007,...  "
      ]
     },
     "metadata": {},
     "output_type": "display_data"
    },
    {
     "data": {
      "text/plain": [
       "[('JCODE', 'string'),\n",
       " ('KEN', 'string'),\n",
       " ('SICHO', 'string'),\n",
       " ('GUN', 'string'),\n",
       " ('SEIREI', 'string'),\n",
       " ('SIKUCHOSON', 'string'),\n",
       " ('CITY_ENG', 'string'),\n",
       " ('P_NUM', 'double'),\n",
       " ('H_NUM', 'double'),\n",
       " ('geometry', 'udt')]"
      ]
     },
     "metadata": {},
     "output_type": "display_data"
    },
    {
     "name": "stdout",
     "output_type": "stream",
     "text": [
      "CPU times: user 83.1 ms, sys: 11.8 ms, total: 94.8 ms\n",
      "Wall time: 1.98 s\n"
     ]
    }
   ],
   "source": [
    "%%time\n",
    "# check\n",
    "_table = \"tmp.japan_ver82\"\n",
    "spark.table(_table).show(5)\n",
    "display(spark.table(_table).limit(5).toPandas())\n",
    "display(spark.table(_table).dtypes)\n",
    "del _table"
   ]
  }
 ],
 "metadata": {
  "kernelspec": {
   "display_name": "Python 3",
   "language": "python",
   "name": "python3"
  },
  "language_info": {
   "codemirror_mode": {
    "name": "ipython",
    "version": 3
   },
   "file_extension": ".py",
   "mimetype": "text/x-python",
   "name": "python",
   "nbconvert_exporter": "python",
   "pygments_lexer": "ipython3",
   "version": "3.7.6"
  }
 },
 "nbformat": 4,
 "nbformat_minor": 4
}
